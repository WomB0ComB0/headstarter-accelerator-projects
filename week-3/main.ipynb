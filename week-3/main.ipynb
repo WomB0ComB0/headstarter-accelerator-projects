{
  "cells": [
    {
      "cell_type": "code",
      "execution_count": null,
      "metadata": {
        "colab": {
          "base_uri": "https://localhost:8080/"
        },
        "id": "Ty0u5bkxfc-L",
        "outputId": "827ce569-93d3-48f0-e251-056c2b0c4124"
      },
      "outputs": [],
      "source": [
        "%pip install -r ../requirements.txt"
      ]
    },
    {
      "cell_type": "code",
      "execution_count": 2,
      "metadata": {
        "id": "wZiokKDwfc-N"
      },
      "outputs": [],
      "source": [
        "import os\n",
        "from typing import List, Dict, Tuple, Set, Optional, Union\n",
        "import pandas as pd\n",
        "import numpy as np\n",
        "import matplotlib.pyplot as plt\n",
        "import seaborn as sns"
      ]
    },
    {
      "cell_type": "code",
      "execution_count": null,
      "metadata": {
        "colab": {
          "base_uri": "https://localhost:8080/"
        },
        "id": "6lg2q9hBfc-N",
        "outputId": "680ea606-c73f-4ebc-c8a1-dd687664ad5b"
      },
      "outputs": [],
      "source": [
        "%%bash\n",
        "\n",
        "if ! command -v kaggle &> /dev/null; then\n",
        "    echo \"kaggle is not installed\\nInstalling kaggle...\"\n",
        "    pip install kaggle\n",
        "fi\n",
        "\n",
        "mkdir -p ~/.kaggle\n",
        "\n",
        "if [ -f \"kaggle.json\" ]; then\n",
        "    echo \"kaggle.json found. Copying to ~/.kaggle/\"\n",
        "    cp kaggle.json ~/.kaggle/\n",
        "    chmod 600 ~/.kaggle/kaggle.json\n",
        "else\n",
        "    echo \"Error: kaggle.json not found in the current directory. Please upload it.\"\n",
        "fi"
      ]
    },
    {
      "cell_type": "code",
      "execution_count": 4,
      "metadata": {
        "colab": {
          "base_uri": "https://localhost:8080/"
        },
        "id": "LbCXMo6Efc-N",
        "outputId": "69d18617-9c0b-4e76-a2e5-220f2717dff6"
      },
      "outputs": [],
      "source": [
        "%%bash\n",
        "\n",
        "if [ ! -d \"Training\" ] || [ ! -d \"Testing\" ]; then\n",
        "  echo \"Dataset not found\\nDownloading dataset...\"\n",
        "  kaggle datasets download -d masoudnickparvar/brain-tumor-mri-dataset --unzip\n",
        "fi"
      ]
    },
    {
      "cell_type": "code",
      "execution_count": 5,
      "metadata": {
        "id": "39ryWsm9fc-N"
      },
      "outputs": [],
      "source": [
        "def get_class_paths(path: str):\n",
        "  classes = []\n",
        "  class_paths = []\n",
        "\n",
        "  for label in os.listdir(path):\n",
        "    label_path = os.path.join(path, label)\n",
        "\n",
        "    if os.path.isdir(label_path):\n",
        "      for image in os.listdir(label_path):\n",
        "        image_path = os.path.join(label_path, image)\n",
        "\n",
        "        classes.append(label)\n",
        "        class_paths.append(image_path)\n",
        "\n",
        "  df = pd.DataFrame({\"class\": classes, \"path\": class_paths})\n",
        "  return df"
      ]
    },
    {
      "cell_type": "code",
      "execution_count": 6,
      "metadata": {
        "id": "WcPEin6Qfc-N"
      },
      "outputs": [],
      "source": [
        "tr_df = get_class_paths(\"Training\")"
      ]
    },
    {
      "cell_type": "code",
      "execution_count": null,
      "metadata": {
        "colab": {
          "base_uri": "https://localhost:8080/",
          "height": 206
        },
        "id": "ZJDn_NpTfc-O",
        "outputId": "e3fe443a-71fc-4306-cb15-6dfc6bb7e5dd"
      },
      "outputs": [],
      "source": [
        "tr_df.head()"
      ]
    },
    {
      "cell_type": "code",
      "execution_count": 8,
      "metadata": {
        "id": "qAWJdSFsfc-O"
      },
      "outputs": [],
      "source": [
        "ts_df = get_class_paths(\"Testing\")"
      ]
    },
    {
      "cell_type": "code",
      "execution_count": null,
      "metadata": {
        "colab": {
          "base_uri": "https://localhost:8080/",
          "height": 206
        },
        "id": "_NHddJeBfc-O",
        "outputId": "96bb6066-7b2b-4e23-bd94-bfbc79b32230"
      },
      "outputs": [],
      "source": [
        "ts_df.head()"
      ]
    },
    {
      "cell_type": "code",
      "execution_count": null,
      "metadata": {
        "colab": {
          "base_uri": "https://localhost:8080/",
          "height": 528
        },
        "id": "Rzp1JeYIfc-O",
        "outputId": "0356e488-cee0-45d5-92da-7ad471f8da1a"
      },
      "outputs": [],
      "source": [
        "plt.figure(figsize=(15, 7))\n",
        "ax = sns.countplot(x=\"class\", data=tr_df)\n",
        "ax.set_xticklabels(ax.get_xticklabels(), rotation=45, ha=\"right\")\n",
        "plt.show()"
      ]
    },
    {
      "cell_type": "code",
      "execution_count": null,
      "metadata": {
        "colab": {
          "base_uri": "https://localhost:8080/",
          "height": 532
        },
        "id": "Kd3-ANsxfc-O",
        "outputId": "c73cd06c-2347-4f21-9d73-d5b7a5fa26ef"
      },
      "outputs": [],
      "source": [
        "plt.figure(figsize=(15, 7))\n",
        "ax = sns.countplot(x=\"class\", data=ts_df)\n",
        "ax.set_xticklabels(ax.get_xticklabels(), rotation=45, ha=\"right\")\n",
        "plt.show()"
      ]
    },
    {
      "cell_type": "code",
      "execution_count": 12,
      "metadata": {
        "id": "DB2LD8kBfc-O"
      },
      "outputs": [],
      "source": [
        "from sklearn.model_selection import train_test_split\n",
        "from sklearn.metrics import classification_report, confusion_matrix\n",
        "import tensorflow as tf\n",
        "from tensorflow import keras\n",
        "from keras.src.layers import Lambda\n",
        "from tensorflow.keras.models import Sequential\n",
        "from tensorflow.keras.layers import Input, Dense, Dropout, Flatten\n",
        "from tensorflow.keras.optimizers import Adamax\n",
        "from tensorflow.keras.metrics import Precision, Recall\n",
        "from tensorflow.keras.preprocessing.image import ImageDataGenerator"
      ]
    },
    {
      "cell_type": "code",
      "execution_count": 13,
      "metadata": {
        "id": "_EvoQqcCfc-O"
      },
      "outputs": [],
      "source": [
        "valid_df, ts_df = train_test_split(ts_df, train_size=0.5, stratify=ts_df[\"class\"])"
      ]
    },
    {
      "cell_type": "code",
      "execution_count": null,
      "metadata": {
        "colab": {
          "base_uri": "https://localhost:8080/",
          "height": 206
        },
        "id": "U1fV-lWCfc-P",
        "outputId": "f0c15b2d-9076-4891-f7fa-a1eb57c77026"
      },
      "outputs": [],
      "source": [
        "valid_df.head()"
      ]
    },
    {
      "cell_type": "code",
      "execution_count": null,
      "metadata": {
        "colab": {
          "base_uri": "https://localhost:8080/",
          "height": 206
        },
        "id": "2mFLJ90kfc-P",
        "outputId": "76a20fb2-8a15-4bc9-b21a-057f251055b9"
      },
      "outputs": [],
      "source": [
        "ts_df.head()"
      ]
    },
    {
      "cell_type": "code",
      "execution_count": 16,
      "metadata": {
        "id": "vXo69jeRfc-P"
      },
      "outputs": [],
      "source": [
        "batch_size = 32\n",
        "\n",
        "img_size: Tuple[int, int] = (299, 299)\n",
        "\n",
        "image_generator = ImageDataGenerator(\n",
        "    rescale=1/255,\n",
        "    brightness_range=(0.8, 1.2),\n",
        ")\n",
        "\n",
        "ts_gen = ImageDataGenerator(rescale=1/255)"
      ]
    },
    {
      "cell_type": "code",
      "execution_count": null,
      "metadata": {
        "colab": {
          "base_uri": "https://localhost:8080/"
        },
        "id": "r7q-cUcvfc-P",
        "outputId": "a781f054-3f96-41f0-e390-608bb5720f0d"
      },
      "outputs": [],
      "source": [
        "tr_gen = image_generator.flow_from_dataframe(\n",
        "  tr_df,\n",
        "  x_col=\"path\",\n",
        "  y_col=\"class\",\n",
        "  target_size=img_size,\n",
        "  batch_size=batch_size,\n",
        "  class_mode=\"categorical\",\n",
        "  subset=\"training\"\n",
        ")\n",
        "\n",
        "valid_gen = image_generator.flow_from_dataframe(\n",
        "  valid_df,\n",
        "  x_col=\"path\",\n",
        "  y_col=\"class\",\n",
        "  target_size=img_size,\n",
        "  batch_size=batch_size,\n",
        "  class_mode=\"categorical\"\n",
        ")\n",
        "\n",
        "ts_gen = ts_gen.flow_from_dataframe(\n",
        "  ts_df,\n",
        "  x_col=\"path\",\n",
        "  y_col=\"class\",\n",
        "  target_size=img_size,\n",
        "  batch_size=batch_size,\n",
        "  shuffle=False,\n",
        "  class_mode=\"categorical\"\n",
        ")"
      ]
    },
    {
      "cell_type": "code",
      "execution_count": null,
      "metadata": {
        "colab": {
          "base_uri": "https://localhost:8080/",
          "height": 892
        },
        "id": "pNQItwqsfc-P",
        "outputId": "0aa5d33c-9900-4eb0-d424-98ec23f6df6c"
      },
      "outputs": [],
      "source": [
        "plt.figure(figsize=(20, 20))\n",
        "for i in range(16):\n",
        "  plt.subplot(4, 4, i + 1)\n",
        "  batch = next(tr_gen)\n",
        "  image = batch[0][0]\n",
        "  label = batch[1][0]\n",
        "  plt.imshow(image)\n",
        "\n",
        "  class_index = np.argmax(label)\n",
        "\n",
        "  class_names = list(tr_gen.class_indices.keys())\n",
        "  class_indicies = list(tr_gen.class_indices.values())\n",
        "\n",
        "  index_position = class_indicies.index(class_index)\n",
        "\n",
        "  class_name = class_names[index_position]\n",
        "\n",
        "  plt.title(f'class: {class_name}')\n",
        "  plt.axis(\"off\")\n",
        "\n",
        "plt.tight_layout()\n",
        "plt.show()\n"
      ]
    },
    {
      "cell_type": "code",
      "execution_count": null,
      "metadata": {
        "colab": {
          "base_uri": "https://localhost:8080/"
        },
        "id": "8Yxunp4Lfc-P",
        "outputId": "4f8d21ec-ae1e-4c53-80a5-499bccd37212"
      },
      "outputs": [],
      "source": [
        "print(\"Num GPUs Available: \", len(tf.config.list_physical_devices('GPU')))"
      ]
    },
    {
      "cell_type": "code",
      "execution_count": null,
      "metadata": {
        "colab": {
          "base_uri": "https://localhost:8080/"
        },
        "id": "KmBNuqJ-fc-P",
        "outputId": "cacf5352-2f57-425e-b5d5-481af5beb57d"
      },
      "outputs": [],
      "source": [
        "import tensorflow as tf\n",
        "\n",
        "# Configure GPU memory growth before any other TensorFlow/Keras operations\n",
        "print(\"TensorFlow version:\", tf.__version__)\n",
        "print(\"ROCm devices available:\", tf.config.list_physical_devices('GPU'))\n",
        "\n",
        "physical_devices = tf.config.list_physical_devices('GPU')\n",
        "if len(physical_devices) > 0:\n",
        "    tf.config.set_visible_devices(physical_devices[0], 'GPU')\n",
        "else:\n",
        "    print(\"No GPU devices found\")\n",
        "\n",
        "#Now import Keras and perform other operations\n",
        "import keras\n",
        "keras.mixed_precision.set_global_policy('mixed_float16')"
      ]
    },
    {
      "cell_type": "code",
      "execution_count": null,
      "metadata": {
        "colab": {
          "base_uri": "https://localhost:8080/"
        },
        "id": "MrxF6_Wsfc-P",
        "outputId": "1a227f80-5696-4a85-d41a-1863d9cde126"
      },
      "outputs": [],
      "source": [
        "img_shape: Tuple[int, int, int] = (299, 299, 3)\n",
        "\n",
        "base_model = tf.keras.applications.Xception(\n",
        "  include_top=False,\n",
        "  weights=\"imagenet\",\n",
        "  input_shape=img_shape,\n",
        "  pooling=\"max\"\n",
        ")\n",
        "\n",
        "input_tensor = Input(shape=img_shape)\n",
        "processed_input = Lambda(lambda x: x)(input_tensor)\n",
        "xception_output = base_model(processed_input)\n",
        "\n",
        "model = Sequential([\n",
        "  Input(shape=img_shape),\n",
        "  base_model,\n",
        "  Flatten(),\n",
        "  Dropout(0.3),\n",
        "  Dense(128, activation=\"relu\"),\n",
        "  Dropout(rate=0.25),\n",
        "  Dense(4, activation=\"softmax\")\n",
        "])\n"
      ]
    },
    {
      "cell_type": "code",
      "execution_count": null,
      "metadata": {
        "colab": {
          "base_uri": "https://localhost:8080/",
          "height": 340
        },
        "id": "G1KRO6CJfc-P",
        "outputId": "5bd88724-d9aa-4ba0-cd41-76fbe76b6983"
      },
      "outputs": [],
      "source": [
        "model.compile(\n",
        "  Adamax(learning_rate=0.001),\n",
        "  loss=\"categorical_crossentropy\",\n",
        "  metrics=[\"accuracy\", Precision(), Recall()]\n",
        ")\n",
        "\n",
        "model.summary()\n"
      ]
    },
    {
      "cell_type": "code",
      "execution_count": 23,
      "metadata": {
        "colab": {
          "base_uri": "https://localhost:8080/"
        },
        "id": "9jauN6JEfc-P",
        "outputId": "a6f08c30-b842-4560-aa21-bc556672f723"
      },
      "outputs": [],
      "source": [
        "hist = model.fit(\n",
        "    tr_gen,\n",
        "    epochs=5,\n",
        "    validation_data=valid_gen,\n",
        ")"
      ]
    },
    {
      "cell_type": "code",
      "execution_count": null,
      "metadata": {
        "id": "Gu5KruneqoY9"
      },
      "outputs": [],
      "source": [
        "hist.history"
      ]
    },
    {
      "cell_type": "code",
      "execution_count": null,
      "metadata": {
        "id": "yGvFYsWRmC1t"
      },
      "outputs": [],
      "source": [
        "import numpy as np\n",
        "import matplotlib.pyplot as plt\n",
        "\n",
        "metrics = [\"accuracy\", \"loss\", \"precision_1\", \"recall_1\"]\n",
        "tr_metrics = {m: hist.history[m] for m in metrics}\n",
        "val_metrics = {m: hist.history[f\"val_{m}\"] for m in metrics}\n",
        "\n",
        "best_epochs = {}\n",
        "best_values = {}\n",
        "\n",
        "for m in metrics:\n",
        "    if m == 'loss':\n",
        "        idx = np.argmin(val_metrics[m])\n",
        "    else:\n",
        "        idx = np.argmax(val_metrics[m])\n",
        "\n",
        "    best_epochs[m] = idx + 1\n",
        "    best_values[m] = val_metrics[m][idx]\n",
        "\n",
        "plt.figure(figsize=(16, 12))\n",
        "plt.style.use('fivethirtyeight')\n",
        "\n",
        "for i, metric in enumerate(metrics):\n",
        "    plt.subplot(2, 2, i+1)\n",
        "    epochs = range(1, len(tr_metrics[metric]) + 1)\n",
        "\n",
        "    plt.plot(\n",
        "        epochs,\n",
        "        tr_metrics[metric],\n",
        "        'r-',\n",
        "        label=f'Training {metric}'\n",
        "    )\n",
        "    plt.plot(\n",
        "        epochs,\n",
        "        val_metrics[metric],\n",
        "        'g-',\n",
        "        label=f'Validation {metric}'\n",
        "    )\n",
        "    plt.scatter(\n",
        "        best_epochs[metric],\n",
        "        best_values[metric],\n",
        "        s=150,\n",
        "        c='b',\n",
        "        label=f'Best epoch = {best_epochs[metric]}'\n",
        "    )\n",
        "\n",
        "    title = f'{metric.replace(\"_1\", \"\").capitalize()} Metric'\n",
        "    plt.title(title)\n",
        "    plt.xlabel('Epochs')\n",
        "    plt.ylabel(metric.replace('_1', \"\").capitalize())\n",
        "    plt.legend()\n",
        "    plt.grid(True)\n",
        "\n",
        "plt.suptitle('Model Training Metrics Over Epochs', fontsize=16)\n",
        "plt.tight_layout()\n",
        "plt.show()"
      ]
    },
    {
      "cell_type": "code",
      "execution_count": null,
      "metadata": {
        "id": "60mhlwsIsdON"
      },
      "outputs": [],
      "source": [
        "train_score = model.evaluate(tr_gen, verbose=1)\n",
        "valid_score = model.evaluate(valid_gen, verbose=1)\n",
        "test_score = model.evaluate(ts_gen, verbose=1)\n",
        "\n",
        "print(f\"Train Accuracy: {train_score[1]*100:.2f}%\")\n",
        "print(f\"Train Loss: {train_score[0]:.4f}\")\n",
        "print(f\"\\nValidation Accuracy: {valid_score[1]*100:.2f}%\")\n",
        "print(f\"Validation Loss: {valid_score[0]:.4f}\")\n",
        "print(f\"\\n\\nTest Accuracy: {test_score[1]*100:.2f}%\")\n",
        "print(f\"Test Loss: {test_score[0]:.4f}\")"
      ]
    },
    {
      "cell_type": "code",
      "execution_count": null,
      "metadata": {
        "id": "V6N4KVejtpNn"
      },
      "outputs": [],
      "source": [
        "preds = model.predict(ts_gen)\n",
        "y_pred = np.argmax(preds, axis=1)\n",
        "\n",
        "class_dict = {\n",
        "    0: \"glioma\",\n",
        "    1: \"meningioma\",\n",
        "    2: \"no_tumor\",\n",
        "    3: \"pituitary\"\n",
        "}\n",
        "\n",
        "cm = confusion_matrix(ts_gen.classes, y_pred)\n",
        "labels = list(class_dict.keys())\n",
        "plt.figure(figsize=(10, 8))\n",
        "sns.heatmap(\n",
        "    cm,\n",
        "    annot=True,\n",
        "    fmt='d',\n",
        "    cmap='Blues',\n",
        "    xticklabels=labels,\n",
        "    yticklabels=labels\n",
        "  )\n",
        "plt.xlabel('Predicted Label')\n",
        "plt.ylabel('True Label')\n",
        "plt.title('Confusion Matrix')\n",
        "plt.show()"
      ]
    },
    {
      "cell_type": "code",
      "execution_count": null,
      "metadata": {
        "id": "b8RETwZPvFgx"
      },
      "outputs": [],
      "source": [
        "from PIL import Image\n",
        "\n",
        "def predict(img_path: str) ->  None:\n",
        "  labels = list(class_dict.keys())\n",
        "\n",
        "  plt.figure(figsize=(6, 8))\n",
        "\n",
        "  img = Image.open(img_path)\n",
        "  resized_img = img.resize((299, 299))\n",
        "  img_array = np.array(resized_img)\n",
        "  img_array = np.expand_dims(img_array, axis=0) / 255.0\n",
        "\n",
        "  predictions = model.predict(img_array)\n",
        "  probabilities = list(predictions[0])\n",
        "\n",
        "  predicted_class_idx = np.argmax(probabilities)\n",
        "  predicted_class = labels[predicted_class_idx]\n",
        "\n",
        "  plt.subplot(2, 1, 1)\n",
        "  plt.imshow(resized_img)\n",
        "  plt.title(f\"Input MRI Image\\nPredicted {predicted_class}\")\n",
        "\n",
        "\n",
        "  plt.subplot(2, 1, 2 )\n",
        "  bars = plt.barh(labels, probabilities)\n",
        "  plt.xlabel(\"Probability\", fontsize=15)\n",
        "  plt.title(\"Class Probabilities\")\n",
        "\n",
        "  ax = plt.gca()\n",
        "  ax.bar_label(bars, fmt='%.2f')\n",
        "\n",
        "  plt.tight_layout()\n",
        "  plt.show()\n",
        "\n",
        "  print(f\"\\nPredicted tumor types: {predicted_class}\")"
      ]
    },
    {
      "cell_type": "code",
      "execution_count": null,
      "metadata": {
        "id": "HGiGWQxwxEjX"
      },
      "outputs": [],
      "source": [
        "predict(\"/content/Testing/glioma/Te-glTr_0000.jpg\")"
      ]
    },
    {
      "cell_type": "code",
      "execution_count": null,
      "metadata": {
        "id": "Mc57YM4qxT3o"
      },
      "outputs": [],
      "source": [
        "model.save_weights(\"xception_model.weights.h5\")"
      ]
    },
    {
      "cell_type": "code",
      "execution_count": null,
      "metadata": {
        "id": "_bqsP4IYxTlA"
      },
      "outputs": [],
      "source": [
        "from tensorflow.keras.layers import Conv2D, MaxPool2D\n",
        "from tensorflow.keras import regularizers"
      ]
    },
    {
      "cell_type": "code",
      "execution_count": null,
      "metadata": {
        "id": "i3N8yNKIytji"
      },
      "outputs": [],
      "source": [
        "batch_size = 16\n",
        "\n",
        "img_size: Tuple[int, int] = (224, 224)\n",
        "\n",
        "image_generator = ImageDataGenerator(\n",
        "    rescale=1/255,\n",
        "    brightness_range=(0.8, 1.2),\n",
        ")\n",
        "\n",
        "ts_gen = ImageDataGenerator(rescale=1/255)\n",
        "tr_gen = image_generator.flow_from_dataframe(\n",
        "  tr_df,\n",
        "  x_col=\"path\",\n",
        "  y_col=\"class\",\n",
        "  target_size=img_size,\n",
        "  batch_size=batch_size,\n",
        "  class_mode=\"categorical\",\n",
        "  subset=\"training\"\n",
        ")\n",
        "\n",
        "valid_gen = image_generator.flow_from_dataframe(\n",
        "  valid_df,\n",
        "  x_col=\"path\",\n",
        "  y_col=\"class\",\n",
        "  target_size=img_size,\n",
        "  batch_size=batch_size,\n",
        "  class_mode=\"categorical\"\n",
        ")\n",
        "\n",
        "ts_gen = ts_gen.flow_from_dataframe(\n",
        "  ts_df,\n",
        "  x_col=\"path\",\n",
        "  y_col=\"class\",\n",
        "  target_size=img_size,\n",
        "  batch_size=batch_size,\n",
        "  shuffle=False,\n",
        "  class_mode=\"categorical\"\n",
        ")"
      ]
    },
    {
      "cell_type": "code",
      "execution_count": null,
      "metadata": {
        "id": "0W-deUR8xMhJ"
      },
      "outputs": [],
      "source": [
        "cnn_model = Sequential()\n",
        "\n",
        "cnn_model.add(Conv2D(256, (3, 3), padding='same', input_shape=(224, 224, 3), activation='relu'))\n",
        "cnn_model.add(MaxPool2D(pool_size=(2, 2)))\n",
        "\n",
        "cnn_model.add(Conv2D(256, (3, 3), padding='same', activation='relu'))\n",
        "cnn_model.add(MaxPool2D(pool_size=(2, 2)))\n",
        "cnn_model.add(Dropout(0.25))\n",
        "\n",
        "cnn_model.add(Conv2D(128, (3,3), padding='same', activation='relu'))\n",
        "cnn_model.add(MaxPool2D(pool_size=(2, 2)))\n",
        "cnn_model.add(Dropout(0.25))\n",
        "\n",
        "cnn_model.add(Conv2D(64, (3,3), padding='same', activation='relu'))\n",
        "cnn_model.add(MaxPool2D(pool_size=(2, 2)))\n",
        "\n",
        "cnn_model.add(Flatten())\n",
        "\n",
        "cnn_model.add(Dense(256, activation='relu', kernel_regularizer=regularizers.l2(0.01)))\n",
        "cnn_model.add(Dropout(0.25))\n",
        "\n",
        "cnn_model.add(Dense(4, activation='softmax'))\n",
        "\n",
        "cnn_model.compile(Adamax(learning_rate=0.001), loss='categorical_crossentropy', metrics=['accuracy', Precision(), Recall()])\n",
        "\n",
        "cnn_model.summary()"
      ]
    },
    {
      "cell_type": "code",
      "execution_count": null,
      "metadata": {
        "id": "Cr8wFtxB1Syg"
      },
      "outputs": [],
      "source": [
        "history = cnn_model.fit(tr_gen, epochs=5, validation_data=valid_gen)"
      ]
    },
    {
      "cell_type": "code",
      "execution_count": null,
      "metadata": {
        "id": "fsMHlKBNMt_W"
      },
      "outputs": [],
      "source": [
        "import numpy as np\n",
        "import matplotlib.pyplot as plt\n",
        "\n",
        "metrics = [\"accuracy\", \"loss\", \"precision_1\", \"recall_1\"]\n",
        "tr_metrics = {m: history.history[m] for m in metrics}\n",
        "val_metrics = {m: history.history[f\"val_{m}\"] for m in metrics}\n",
        "\n",
        "best_epochs = {}\n",
        "best_values = {}\n",
        "\n",
        "for m in metrics:\n",
        "    if m == 'loss':\n",
        "        idx = np.argmin(val_metrics[m])\n",
        "    else:\n",
        "        idx = np.argmax(val_metrics[m])\n",
        "\n",
        "    best_epochs[m] = idx + 1\n",
        "    best_values[m] = val_metrics[m][idx]\n",
        "\n",
        "plt.figure(figsize=(16, 12))\n",
        "plt.style.use('fivethirtyeight')\n",
        "\n",
        "for i, metric in enumerate(metrics):\n",
        "    plt.subplot(2, 2, i+1)\n",
        "    epochs = range(1, len(tr_metrics[metric]) + 1)\n",
        "\n",
        "    plt.plot(\n",
        "        epochs,\n",
        "        tr_metrics[metric],\n",
        "        'r-',\n",
        "        label=f'Training {metric}'\n",
        "    )\n",
        "    plt.plot(\n",
        "        epochs,\n",
        "        val_metrics[metric],\n",
        "        'g-',\n",
        "        label=f'Validation {metric}'\n",
        "    )\n",
        "    plt.scatter(\n",
        "        best_epochs[metric],\n",
        "        best_values[metric],\n",
        "        s=150,\n",
        "        c='b',\n",
        "        label=f'Best epoch = {best_epochs[metric]}'\n",
        "    )\n",
        "\n",
        "    title = f'{metric.replace(\"_1\", \"\").capitalize()} Metric'\n",
        "    plt.title(title)\n",
        "    plt.xlabel('Epochs')\n",
        "    plt.ylabel(metric.replace('_1', \"\").capitalize())\n",
        "    plt.legend()\n",
        "    plt.grid(True)\n",
        "\n",
        "plt.suptitle('Model Training Metrics Over Epochs', fontsize=16)\n",
        "plt.tight_layout()\n",
        "plt.show()"
      ]
    },
    {
      "cell_type": "code",
      "execution_count": null,
      "metadata": {
        "id": "ePT2tNhmOT7g"
      },
      "outputs": [],
      "source": [
        "train_score = cnn_model.evaluate(tr_gen, verbose=1)\n",
        "valid_score = cnn_model.evaluate(valid_gen, verbose=1)\n",
        "test_score = cnn_model.evaluate(ts_gen, verbose=1)\n",
        "\n",
        "print(f\"Train Accuracy: {train_score[1]*100:.2f}%\")\n",
        "print(f\"Train Loss: {train_score[0]:.4f}\")\n",
        "print(f\"\\nValidation Accuracy: {valid_score[1]*100:.2f}%\")\n",
        "print(f\"Validation Loss: {valid_score[0]:.4f}\")\n",
        "print(f\"\\n\\nTest Accuracy: {test_score[1]*100:.2f}%\")\n",
        "print(f\"Test Loss: {test_score[0]:.4f}\")"
      ]
    },
    {
      "cell_type": "code",
      "execution_count": null,
      "metadata": {
        "id": "MYN_MKYjOaNJ"
      },
      "outputs": [],
      "source": [
        "preds = cnn_model.predict(ts_gen)\n",
        "y_pred = np.argmax(preds, axis=1)\n",
        "\n",
        "class_dict = {\n",
        "    0: \"glioma\",\n",
        "    1: \"meningioma\",\n",
        "    2: \"no_tumor\",\n",
        "    3: \"pituitary\"\n",
        "}\n",
        "\n",
        "cm = confusion_matrix(ts_gen.classes, y_pred)\n",
        "labels = list(class_dict.keys())\n",
        "plt.figure(figsize=(10, 8))\n",
        "sns.heatmap(\n",
        "    cm,\n",
        "    annot=True,\n",
        "    fmt='d',\n",
        "    cmap='Blues',\n",
        "    xticklabels=labels,\n",
        "    yticklabels=labels\n",
        "  )\n",
        "plt.xlabel('Predicted Label')\n",
        "plt.ylabel('True Label')\n",
        "plt.title('Confusion Matrix')\n",
        "plt.show()"
      ]
    },
    {
      "cell_type": "code",
      "execution_count": null,
      "metadata": {
        "id": "VOm1yfRbOaCq"
      },
      "outputs": [],
      "source": [
        "clr = classification_report(ts_gen.classes, y_pred)\n",
        "print(clr)"
      ]
    },
    {
      "cell_type": "code",
      "execution_count": null,
      "metadata": {
        "id": "tvteCRuBPKUB"
      },
      "outputs": [],
      "source": [
        "cnn_model.save(\"cnn_model.h5\")"
      ]
    }
  ],
  "metadata": {
    "accelerator": "GPU",
    "colab": {
      "gpuType": "T4",
      "provenance": []
    },
    "kernelspec": {
      "display_name": "Python 3",
      "name": "python3"
    },
    "language_info": {
      "codemirror_mode": {
        "name": "ipython",
        "version": 3
      },
      "file_extension": ".py",
      "mimetype": "text/x-python",
      "name": "python",
      "nbconvert_exporter": "python",
      "pygments_lexer": "ipython3",
      "version": "3.9.13"
    }
  },
  "nbformat": 4,
  "nbformat_minor": 0
}
